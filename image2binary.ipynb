{
 "cells": [
  {
   "cell_type": "markdown",
   "metadata": {},
   "source": [
    "# Load RAW Image using Rawpy"
   ]
  },
  {
   "cell_type": "code",
   "execution_count": 1,
   "metadata": {},
   "outputs": [],
   "source": [
    "import os\n",
    "import numpy as np\n",
    "from matplotlib import pyplot as plt\n",
    "import rawpy\n",
    "import imageio\n",
    "from PIL import Image\n",
    "import array\n",
    "path = '/home/qingyao/Desktop/Topic 1: Demosaic/AHD Algorithm/7.dng'"
   ]
  },
  {
   "cell_type": "markdown",
   "metadata": {},
   "source": [
    "# Print out Properties of this RAW image"
   ]
  },
  {
   "cell_type": "code",
   "execution_count": 2,
   "metadata": {},
   "outputs": [
    {
     "name": "stdout",
     "output_type": "stream",
     "text": [
      "size =  ImageSizes(raw_height=5472, raw_width=7296, height=5472, width=7296, top_margin=0, left_margin=0, iheight=5472, iwidth=7296, pixel_aspect=1.0, flip=3)\n",
      "camera_whitebalance =  [2.3809523582458496, 1.0, 1.5943223237991333, 0.0]\n",
      "num_colors =  3\n",
      "color_desc =  b'RGBG'\n",
      "raw_colors = \n",
      "[[0 1 0 ... 1 0 1]\n",
      " [3 2 3 ... 2 3 2]\n",
      " [0 1 0 ... 1 0 1]\n",
      " ...\n",
      " [3 2 3 ... 2 3 2]\n",
      " [0 1 0 ... 1 0 1]\n",
      " [3 2 3 ... 2 3 2]]\n",
      "raw pattern = \n",
      "[[0 1]\n",
      " [3 2]]\n",
      "max pixel value =  2912\n",
      "min pixel value =  128\n",
      "data type of pixel =  <class 'numpy.uint16'>\n"
     ]
    }
   ],
   "source": [
    "raw = rawpy.imread(path)\n",
    "print(\"size = \",raw.sizes)\n",
    "print(\"camera_whitebalance = \",raw.camera_whitebalance)\n",
    "print(\"num_colors = \",raw.num_colors)\n",
    "print(\"color_desc = \",raw.color_desc)\n",
    "print(\"raw_colors = \")\n",
    "print(raw.raw_colors)\n",
    "print(\"raw pattern = \")\n",
    "print(raw.raw_pattern)\n",
    "raw_img = raw.raw_image\n",
    "raw_img_visible = raw.raw_image_visible\n",
    "print(\"max pixel value = \",np.max(raw_img_visible))\n",
    "print(\"min pixel value = \",np.min(raw_img_visible))\n",
    "print(\"data type of pixel = \",type(np.max(raw_img_visible)))"
   ]
  },
  {
   "cell_type": "markdown",
   "metadata": {},
   "source": [
    "# Image Properties Analysis\n",
    "This image has shape 5472 x 7296 without margin. <br>\n",
    "num of colors is 3 => G1 is equal to G2 <br>\n",
    "The Bayer pattern is RGBG => filter = 0x94949494 (explained in AHD.c) <br>\n",
    "Max value 2912 => 12 bit image <br>"
   ]
  },
  {
   "cell_type": "markdown",
   "metadata": {},
   "source": [
    "# Save into Binary File \n",
    "Save the raw data into binary file (data) and check the shape and max pixel value.<br>\n",
    "It can be seen that the original data is successfully saved into binary file."
   ]
  },
  {
   "cell_type": "code",
   "execution_count": 3,
   "metadata": {},
   "outputs": [
    {
     "name": "stdout",
     "output_type": "stream",
     "text": [
      "type of binary file =  <class 'numpy.ndarray'>\n",
      "type of data read from binary file =  <class 'numpy.uint16'>\n",
      "shape of data stored in binary file =  (39923712,)\n",
      "shape of original raw data =  (39923712,)\n",
      "max pixel value in binary file =  2912\n"
     ]
    }
   ],
   "source": [
    "a = array.array(\"H\", list(raw_img_visible.flatten()))\n",
    "with open(\"./data\", \"wb\") as f:\n",
    "    a.tofile(f)\n",
    "b = np.fromfile('./data',dtype=np.uint16)\n",
    "print(\"type of binary file = \",type(b))\n",
    "print(\"type of data read from binary file = \",type(b[0]))\n",
    "print(\"shape of data stored in binary file = \",np.shape(b))\n",
    "print(\"shape of original raw data = \",np.shape(raw_img_visible.flatten()))\n",
    "print(\"max pixel value in binary file = \",np.max(b))"
   ]
  }
 ],
 "metadata": {
  "kernelspec": {
   "display_name": "Python 3",
   "language": "python",
   "name": "python3"
  },
  "language_info": {
   "codemirror_mode": {
    "name": "ipython",
    "version": 3
   },
   "file_extension": ".py",
   "mimetype": "text/x-python",
   "name": "python",
   "nbconvert_exporter": "python",
   "pygments_lexer": "ipython3",
   "version": "3.7.3"
  }
 },
 "nbformat": 4,
 "nbformat_minor": 2
}
